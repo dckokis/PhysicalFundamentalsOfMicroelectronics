{
 "cells": [
  {
   "cell_type": "code",
   "execution_count": 74,
   "outputs": [],
   "source": [
    "from fompy.constants import *\n",
    "from fompy.materials import *\n",
    "from fompy.models import *\n",
    "from fompy.units import *"
   ],
   "metadata": {
    "collapsed": false
   }
  },
  {
   "cell_type": "code",
   "execution_count": 75,
   "outputs": [],
   "source": [
    "Ed = Ge.Eg - 0.01 * eV"
   ],
   "metadata": {
    "collapsed": false
   }
  },
  {
   "cell_type": "code",
   "execution_count": 76,
   "outputs": [],
   "source": [
    "ge_p = DopedSemiconductor(Ge, 0, 0, 10 ** 17, Ed)"
   ],
   "metadata": {
    "collapsed": false
   }
  },
  {
   "cell_type": "code",
   "execution_count": 77,
   "outputs": [],
   "source": [
    "ge_gold_contact = MSJunction(Metal(5.1 * eV), ge_p)"
   ],
   "metadata": {
    "collapsed": false
   }
  },
  {
   "cell_type": "code",
   "execution_count": 83,
   "outputs": [
    {
     "name": "stdout",
     "output_type": "stream",
     "text": [
      "ContactType.INVERSION\n",
      "Electron concentration 8.850419599425274e+16 sm^-3\n",
      "Debye length 13.205957496965805 nm\n",
      "Width of depletion zone 146.08006473717907 nm\n"
     ]
    }
   ],
   "source": [
    "T = 200\n",
    "\n",
    "print(ge_gold_contact.contact_type(T))\n",
    "print('Electron concentration ' + str(ge_p.n_concentration(ge_p.fermi_level(T), T)) + ' sm^-3')\n",
    "print('Debye length ' + str(ge_gold_contact.debye_length(T) * 1e-2 * 1e9) + ' nm')\n",
    "print('Width of depletion zone ' + str(ge_gold_contact.full_depletion_width(T) * 1e-2 * 1e9) + ' nm')"
   ],
   "metadata": {
    "collapsed": false
   }
  },
  {
   "cell_type": "code",
   "execution_count": 84,
   "outputs": [
    {
     "name": "stdout",
     "output_type": "stream",
     "text": [
      "Effective mass of density of states = 0.55 me\n"
     ]
    }
   ],
   "source": [
    "num_valleys = 4\n",
    "ml = 1.59\n",
    "mt = 0.0815\n",
    "effective_mass_of_density_of_states = (num_valleys ** 2 * ml * mt ** 2) ** (1 / 3)\n",
    "print('Effective mass of density of states = %1.2f me' % effective_mass_of_density_of_states)"
   ],
   "metadata": {
    "collapsed": false
   }
  }
 ],
 "metadata": {
  "kernelspec": {
   "display_name": "Python 3",
   "language": "python",
   "name": "python3"
  },
  "language_info": {
   "codemirror_mode": {
    "name": "ipython",
    "version": 2
   },
   "file_extension": ".py",
   "mimetype": "text/x-python",
   "name": "python",
   "nbconvert_exporter": "python",
   "pygments_lexer": "ipython2",
   "version": "2.7.6"
  }
 },
 "nbformat": 4,
 "nbformat_minor": 0
}
