{
 "cells": [
  {
   "cell_type": "code",
   "execution_count": 1,
   "metadata": {},
   "outputs": [
    {
     "data": {
      "image/png": "[encoded data removed]",
      "text/plain": [
       "<Figure size 640x480 with 3 Axes>"
      ]
     },
     "metadata": {},
     "output_type": "display_data"
    }
   ],
   "source": [
    "import numpy as np\n",
    "import matplotlib.pyplot as plt\n",
    "from matplotlib.widgets import Slider\n",
    "\n",
    "\n",
    "def phi(ax, L=1):\n",
    "    return 1 - ax ** 2 / L ** 2\n",
    "\n",
    "\n",
    "# Tridiagonal matrix algorithm\n",
    "def tma(a, b, c, d):\n",
    "    n = len(a)\n",
    "    sol = np.zeros(n)\n",
    "\n",
    "    for i in range(1, n):\n",
    "        w = a[i] / b[i - 1]\n",
    "        b[i] = b[i] - w * c[i - 1]\n",
    "        d[i] = d[i] - w * d[i - 1]\n",
    "\n",
    "    sol[n - 1] = d[n - 1] / b[n - 1]\n",
    "    for i in reversed(range(n - 1)):\n",
    "        sol[i] = (d[i] - c[i] * sol[i + 1]) / b[i]\n",
    "\n",
    "    return sol\n",
    "\n",
    "\n",
    "def local_unidimentional_method(t: np.array, x: np.array, y: np.array):\n",
    "    dt = t[1] - t[0]\n",
    "    dx = x[1] - x[0]\n",
    "    dy = y[1] - y[0]\n",
    "\n",
    "    u = np.zeros(shape=(t.shape[0], x.shape[0], y.shape[0]))\n",
    "    w = np.zeros(shape=(2 * t.shape[0], x.shape[0], y.shape[0]))\n",
    "\n",
    "    for j in range(0, 2 * t.shape[0] - 2, 2):\n",
    "        w[:, 0, :] = phi(y)\n",
    "        w[:, -1, :] = phi(y)\n",
    "        w[:, :, 0] = phi(x)\n",
    "        w[:, :, -1] = phi(x)\n",
    "\n",
    "        # Fill matrix (x - implicit, y - explicit)\n",
    "        A_x = np.full(x.shape[0], - dt / 2 / dx ** 2)\n",
    "        B_x = np.full(x.shape[0], 1 + dt / 2 / dx ** 2)\n",
    "        C_x = np.full(x.shape[0], - dt / 2 / dx ** 2)\n",
    "        D_x = np.zeros(x.shape[0])\n",
    "        # Bound conditions\n",
    "        B_x[0] = 1\n",
    "        B_x[-1] = 1\n",
    "\n",
    "        for m in range(1, y.shape[0] - 1):\n",
    "            D_x[0] = phi(y[m])\n",
    "            D_x[-1] = phi(y[m])\n",
    "            for n in range(1, x.shape[0] - 1):\n",
    "                D_x[n] = w[j, n, m] + dt / 2 / dy ** 2 * (w[j, n, m + 1] - 2 * w[j, n, m] + w[j, n, m - 1])\n",
    "            w[j + 1, m, :] = tma(A_x, B_x, C_x, D_x)\n",
    "\n",
    "        # Fill matrix (x - explicit, y - implicit)\n",
    "        A_y = np.full(y.shape[0], - dt / 2 / dy ** 2)\n",
    "        B_y = np.full(y.shape[0], 1 + dt / dy ** 2)\n",
    "        C_y = np.full(y.shape[0], - dt / 2 / dy ** 2)\n",
    "        D_y = np.zeros(y.shape[0])\n",
    "        # Bound conditions\n",
    "        B_y[0] = 1\n",
    "        B_y[-1] = 1\n",
    "\n",
    "        for n in range(1, x.shape[0] - 1):\n",
    "            D_y[0] = phi(x[n])\n",
    "            D_y[-1] = phi(x[n])\n",
    "            for m in range(1, y.shape[0] - 1):\n",
    "                D_y[m] = w[j + 1, n, m] + dt / 2 / dx ** 2 * (\n",
    "                            w[j + 1, n + 1, m] - 2 * w[j + 1, n, m] + w[j + 1, n - 1, m])\n",
    "            w[j + 2, :, n] = tma(A_y, B_y, C_y, D_y)\n",
    "\n",
    "    for i in range(0, t.shape[0] - 1):\n",
    "        u[i] = w[2 * i]\n",
    "    return u\n",
    "\n",
    "\n",
    "def pseudoviscosity_method(t: np.array, x: np.array, y: np.array, eps=1000):\n",
    "    dt = t[1] - t[0]\n",
    "    dx = x[1] - x[0]\n",
    "    dy = y[1] - y[0]\n",
    "\n",
    "    if (dt > 0.5 / (1 / dx ** 2 + 1 / dy ** 2)):\n",
    "        print(\"Scheme not stable. Return to base. over.\")\n",
    "        return\n",
    "\n",
    "    u = np.zeros(shape=(t.shape[0], x.shape[0], y.shape[0]))\n",
    "    # Bound conditions\n",
    "    u[:, 0, :] = phi(y)\n",
    "    u[:, -1, :] = phi(y)\n",
    "    u[:, :, 0] = phi(x)\n",
    "    u[:, :, -1] = phi(x)\n",
    "\n",
    "    for n in range(t.shape[0] - 1):\n",
    "        diff = u[n, :, :]\n",
    "        # while np.max(np.abs(diff)) > eps:\n",
    "        for k in range(eps):\n",
    "            for i, j in zip(range(1, x.shape[0] - 1), range(1, y.shape[0] - 1)):\n",
    "                u[n + 1, i, j] = u[n, i, j] + dt * ((u[n, i + 1, j] - 2 * u[n, i, j] + u[n, i - 1, j]) / dx ** 2 + \\\n",
    "                                                    +(u[n, i, j + 1] - 2 * u[n, i, j] + u[n, i, j - 1]) / dy ** 2)\n",
    "                # print(f'n = {n}; i = {i}; j = {j}')\n",
    "                # print(u[n,i+1,j], u[n,i,j], u[n,i-1,j])\n",
    "                # print(u[n,i,j+1],u[n,i,j], u[n,i,j-1])\n",
    "            diff = u[n + 1, :, :] - u[n, :, :]\n",
    "\n",
    "    # print(f'Converge in {n} iterations')\n",
    "    return u\n",
    "\n",
    "\n",
    "def update():\n",
    "    global slider_time\n",
    "    global graph_axes\n",
    "    global u\n",
    "    global clb\n",
    "\n",
    "    graph_axes.clear()\n",
    "    clb.remove()\n",
    "    im = graph_axes.imshow(u[slider_time.val, :, :], cmap='hot')\n",
    "    clb = plt.colorbar(im, ax=graph_axes)\n",
    "\n",
    "    plt.draw()\n",
    "\n",
    "\n",
    "def onChangeSlider(value):\n",
    "    update()\n",
    "\n",
    "\n",
    "L = 1\n",
    "N = 256\n",
    "t = np.linspace(0, 1, N)\n",
    "x = np.linspace(-L, L, 16)\n",
    "y = np.linspace(-L, L, 16)\n",
    "\n",
    "u = pseudoviscosity_method(t, x, y)\n",
    "# u = local_unidimentional_method(t, x, y)\n",
    "\n",
    "fig, graph_axes = plt.subplots()\n",
    "fig.subplots_adjust(left=0.07, right=0.95, top=0.95, bottom=0.2)\n",
    "\n",
    "ax_slider_time = plt.axes([0.05, 0.05, 0.8, 0.04])\n",
    "slider_time = Slider(ax_slider_time, label='t', valmin=0, valmax=N - 2, valinit=0, valstep=1)\n",
    "\n",
    "slider_time.on_changed(onChangeSlider)\n",
    "\n",
    "im = graph_axes.imshow(u[0, :, :], cmap='hot')\n",
    "clb = plt.colorbar(im, ax=graph_axes)\n",
    "\n",
    "plt.show()"
   ]
  },
  {
   "cell_type": "code",
   "execution_count": 2,
   "metadata": {
    "collapsed": true
   },
   "outputs": [],
   "source": [
    "from fompy.constants import *\n",
    "from fompy.units import unit, from_unit\n",
    "from fompy.models import *\n",
    "from fompy.materials import Si"
   ]
  },
  {
   "cell_type": "markdown",
   "metadata": {},
   "source": [
    "# 2019 год"
   ]
  },
  {
   "cell_type": "markdown",
   "metadata": {},
   "source": [
    "## Задание 1\n",
    "Рассчитайте плотность соединения ZnTe. Параметр решетки 6.1Å"
   ]
  },
  {
   "cell_type": "code",
   "execution_count": 3,
   "metadata": {},
   "outputs": [
    {
     "name": "stdout",
     "output_type": "stream",
     "text": [
      "Density: 5.648458152885042 g / cm^3\n",
      "Concentration: 3.524524079107942e+22 cm^-3\n"
     ]
    }
   ],
   "source": [
    "m1 = 65.37 * amu\n",
    "m2 = 127.6 * amu\n",
    "m = (m1 + m2) / 2\n",
    "a = 6.1 * angstrom\n",
    "l = DiamondLikeLattice(a, m)\n",
    "\n",
    "print(f'Density: {l.density} g / cm^3')\n",
    "print(f'Concentration: {l.concentration} cm^-3')"
   ]
  },
  {
   "cell_type": "markdown",
   "metadata": {},
   "source": [
    "## Задание 2\n",
    "$\\text{Effective mass of density of states for electrons} = (vallues^2*{m_{l}*m_{t}^{2}})^{1/3}$\\\n",
    "$\\text{Effective mass of density of states for holes} = (m_{hh}^{3/2} + m_{lh}^{3/2})^{2/3}$"
   ]
  },
  {
   "cell_type": "code",
   "execution_count": 18,
   "metadata": {},
   "outputs": [
    {
     "name": "stdout",
     "output_type": "stream",
     "text": [
      "Ea: 0.08043349078490213 eV\n",
      "Ed: 1.0842517818733768 eV\n",
      "Nc: 2.9478007828414684e+18\n",
      "Nv: 9.948827642089957e+18\n",
      "1.0751378250122072\n",
      "0.09524250030517577\n",
      "difference between the donor and acceptor Fermi potentials: 0.9798537051679436\n",
      "width of the depletion layer inside the n-type semiconductor: 3.24534472744884e-06 cm\n",
      "width of the depletion layer inside the p-type semiconductor: 1.744075275274712e-05 cm\n",
      "full depletion width: 2.0686097480195958e-05 cm\n",
      "8.229303131918818e-09 4.530592611061823e-08\n",
      "7.91034214995452e-27 2.6129943535472906e-26\n",
      "Max I 63.426437463144865 A\n"
     ]
    }
   ],
   "source": [
    "T = 200\n",
    "Na = 5e16\n",
    "Nd = 3e17\n",
    "# # для электронов mt=0,19; ml=0.98; 6 долин (Si)\n",
    "# mc = (6 ** 2 * 0.19 ** 2 * 0.98) ** (1 / 3)\n",
    "# # для дырок mhh = 0.49; mlh = 0.16\n",
    "# mh = (0.49 ** (3 / 2) + 0.16 ** (3 / 2)) ** (2 / 3)\n",
    "Ea = hydrogen_like_energy(Si.eps, m=0.81 * me)\n",
    "Ed = Si.Eg - hydrogen_like_energy(Si.eps, m=0.36 * me)\n",
    "print(f'Ea: {Ea / eV} eV')\n",
    "print(f'Ed: {Ed / eV} eV')\n",
    "print(f'Nc: {Si.Nc(T=T)}')\n",
    "print(f'Nv: {Si.Nv(T=T)}')\n",
    "\n",
    "pn = PNJunctionFullDepletion(Si, Na, Ea, Nd, Ed)\n",
    "print(pn.n_mat.fermi_level(T=T) / eV)\n",
    "print(pn.p_mat.fermi_level(T=T) / eV)\n",
    "\n",
    "print(f'difference between the donor and acceptor Fermi potentials: {pn.delta_phi(T) / volt}')\n",
    "print(f'width of the depletion layer inside the n-type semiconductor: {pn.w_n(T)} cm')\n",
    "print(f'width of the depletion layer inside the p-type semiconductor: {pn.w_p(T)} cm')\n",
    "print(f'full depletion width: {pn.w(T)} cm')\n",
    "\n",
    "pn = PNJunctionNonDegenerate(Si, Na, Ea, Nd, Ed)\n",
    "Lp = 2e-3\n",
    "Ln = 1e-2\n",
    "Dp = 12\n",
    "Dn = 36\n",
    "j0_n = pn.j0_n(Dn, Ln)\n",
    "j0_p = pn.j0_p(Dp, Lp)\n",
    "((j0_n + j0_p) * from_unit(0.1, 'mm^2')) / unit('A')\n",
    "ni2 = (sqrt(Si.Nc(T=T) * Si.Nv(T=T)) * exp(-Si.Eg / (2 * k * T))) ** 2\n",
    "\n",
    "p_n = ni2 / (Si.Nc(T=T) * exp((pn.n_mat.fermi_level(T=T) - Si.Eg) / (k * T)))\n",
    "n_p = ni2 / (Si.Nv(T=T) * exp(-pn.p_mat.fermi_level(T=T) / (k * T)))\n",
    "print(p_n, n_p)\n",
    "print(e * Dp / Lp * p_n * from_unit(0.1, 'mm2') / unit('A'), e * Dn / Ln * n_p * from_unit(0.1, 'mm2') / unit('A'))\n",
    "\n",
    "# ток\n",
    "def cur(V):\n",
    "    return e * Dn / Ln * n_p * from_unit(0.1, 'mm2') * (exp(e * V / k / T) - 1)\n",
    "\n",
    "# мощность\n",
    "def pwr(V):\n",
    "    return V * cur(V)\n",
    "\n",
    "\n",
    "v_max = bisect(lambda x: pwr(x) - from_unit(50, 'W'), 0.1 * volt, 2 * volt, xtol=0.01 * volt)\n",
    "i_max = cur(v_max)\n",
    "print(f\"Max I {i_max / unit('A')} A\")\n"
   ]
  },
  {
   "cell_type": "code",
   "execution_count": 5,
   "metadata": {},
   "outputs": [
    {
     "name": "stdout",
     "output_type": "stream",
     "text": [
      "Na: 1.387096e+16, Es: 0.045, Ef: 0.18277240753173832\n"
     ]
    },
    {
     "data": {
      "text/plain": [
       "2.7156364237350234e-05"
      ]
     },
     "execution_count": 5,
     "metadata": {},
     "output_type": "execute_result"
    }
   ],
   "source": [
    "# КДБ-1\n",
    "sem = DopedSemiconductor.from_materials(Si, from_unit(450, 'cm / V s'), 'B', from_unit(1, 'Ohm cm'))\n",
    "print(f'Na: {sem.Na:e}, Es: {sem.Ea/eV}, Ef: {sem.fermi_level()/eV}')\n",
    "\n",
    "ms = MSJunction(Metal(4.2*eV), sem)\n",
    "ms.delta_phi()/volt\n",
    "df = ms.delta_phi()\n",
    "n = sem.p_concentration()\n",
    "depletion_width(Si.eps, n, -df)\n"
   ]
  }
 ],
 "metadata": {
  "kernelspec": {
   "display_name": "Python 3 (ipykernel)",
   "language": "python",
   "name": "python3"
  },
  "language_info": {
   "codemirror_mode": {
    "name": "ipython",
    "version": 3
   },
   "file_extension": ".py",
   "mimetype": "text/x-python",
   "name": "python",
   "nbconvert_exporter": "python",
   "pygments_lexer": "ipython3",
   "version": "3.10.8"
  }
 },
 "nbformat": 4,
 "nbformat_minor": 1
}
