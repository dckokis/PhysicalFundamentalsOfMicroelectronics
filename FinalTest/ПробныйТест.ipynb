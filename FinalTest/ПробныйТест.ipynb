{
 "cells": [
  {
   "cell_type": "code",
   "execution_count": 83,
   "metadata": {
    "collapsed": true
   },
   "outputs": [],
   "source": [
    "import fompy.units\n",
    "import numpy as np\n",
    "from fompy.constants import *\n",
    "from fompy.units import unit, from_unit\n",
    "from fompy.models import *\n",
    "from fompy.materials import Si"
   ]
  },
  {
   "cell_type": "markdown",
   "metadata": {},
   "source": [
    "# 2019 год"
   ]
  },
  {
   "cell_type": "markdown",
   "metadata": {},
   "source": [
    "## Задание 1\n",
    "Рассчитайте плотность соединения ZnTe. Параметр решетки 6.1Å"
   ]
  },
  {
   "cell_type": "code",
   "execution_count": 84,
   "metadata": {},
   "outputs": [
    {
     "name": "stdout",
     "output_type": "stream",
     "text": [
      "Density: 5.779412745888399 g / cm^3\n",
      "Concentration: 2.9414809978010444e+22 cm^-3\n"
     ]
    }
   ],
   "source": [
    "m1 = 114.82 * amu\n",
    "m2 = 121.76 * amu\n",
    "m = (m1 + m2) /  2\n",
    "a = 6.479 * angstrom\n",
    "l = DiamondLikeLattice(a, m)\n",
    "\n",
    "print(f'Density: {l.density} g / cm^3')\n",
    "print(f'Concentration: {l.concentration} cm^-3')"
   ]
  },
  {
   "cell_type": "markdown",
   "metadata": {},
   "source": [
    "## Задание 2\n",
    "$\\text{Effective mass of density of states for electrons} = (vallues^2*{m_{l}*m_{t}^{2}})^{1/3}$\\\n",
    "$\\text{Effective mass of density of states for holes} = (m_{hh}^{3/2} + m_{lh}^{3/2})^{2/3}$"
   ]
  },
  {
   "cell_type": "code",
   "execution_count": 110,
   "metadata": {},
   "outputs": [
    {
     "name": "stdout",
     "output_type": "stream",
     "text": [
      "Ea: 0.08043349078490213 eV\n",
      "Ed: 1.0842517818733768 eV\n",
      "Nc: 2.9478007828414684e+18\n",
      "Nv: 9.948827642089957e+18\n",
      "1.0601286697387697\n",
      "0.10811756134033203\n",
      "difference between the donor and acceptor Fermi potentials: 0.951970673198331\n",
      "width of the depletion layer inside the n-type semiconductor: 5.137534511138914e-06 cm\n",
      "width of the depletion layer inside the p-type semiconductor: 2.473881436228343e-05 cm\n",
      "full depletion width: 2.987634887342235e-05 cm\n",
      "js 1.3354599702017614e-16\n",
      "1.9653473270854312e-08 9.560355725907644e-08\n",
      "1.8891720904585713e-26 6.126536164314132e-27\n",
      "1.0871599174638806\n",
      "Max I 45.99139390333794 A\n"
     ]
    },
    {
     "data": {
      "text/plain": "<Figure size 640x480 with 1 Axes>",
      "image/png": "[encoded data removed]"
     },
     "metadata": {},
     "output_type": "display_data"
    }
   ],
   "source": [
    "from matplotlib import pyplot as plt\n",
    "\n",
    "T = 200\n",
    "Na = 2e16\n",
    "Nd = 1e17\n",
    "# # для электронов mt=0,19; ml=0.98; 6 долин (Si)\n",
    "# mc = (6 ** 2 * 0.19 ** 2 * 0.98) ** (1 / 3)\n",
    "# # для дырок mhh = 0.49; mlh = 0.16\n",
    "# mh = (0.49 ** (3 / 2) + 0.16 ** (3 / 2)) ** (2 / 3)\n",
    "Ea = hydrogen_like_energy(11.7, m=0.81 * me)\n",
    "Ed = Si.Eg - hydrogen_like_energy(11.7, m=0.36 * me)\n",
    "print(f'Ea: {Ea / eV} eV')\n",
    "print(f'Ed: {Ed / eV} eV')\n",
    "print(f'Nc: {Si.Nc(T=T)}')\n",
    "print(f'Nv: {Si.Nv(T=T)}')\n",
    "\n",
    "pn = PNJunctionFullDepletion(Si, Na, Ea, Nd, Ed)\n",
    "print(pn.n_mat.fermi_level(T=T) / eV)\n",
    "print(pn.p_mat.fermi_level(T=T) / eV)\n",
    "\n",
    "print(f'difference between the donor and acceptor Fermi potentials: {pn.delta_phi(T) / volt}')\n",
    "print(f'width of the depletion layer inside the n-type semiconductor: {pn.w_n(T)} cm')\n",
    "print(f'width of the depletion layer inside the p-type semiconductor: {pn.w_p(T)} cm')\n",
    "print(f'full depletion width: {pn.w(T)} cm')\n",
    "\n",
    "pn = PNJunctionNonDegenerate(Si, Na, Ea, Nd, Ed)\n",
    "Lp = 2e-2\n",
    "Ln = 9e-1\n",
    "Dp = 12\n",
    "Dn = 36\n",
    "j0_n = pn.j0_n(Dn, Ln)\n",
    "j0_p = pn.j0_p(Dp, Lp)\n",
    "Js = ((j0_n + j0_p) * from_unit(1, 'mm^2')) / unit('A')\n",
    "print('js', Js)\n",
    "J = lambda V: Js * (np.exp(e * V / (k * T)) - 1)\n",
    "v = np.linspace(0 * volt, 2 * volt, 1000)\n",
    "\n",
    "j = np.vectorize(J)(v)\n",
    "plt.plot(v / volt, j/ unit('A'))\n",
    "\n",
    "ni2 = (sqrt(Si.Nc(T=T) * Si.Nv(T=T)) * exp(-Si.Eg / (2 * k * T))) ** 2\n",
    "\n",
    "p_n = ni2 / (Si.Nc(T=T) * exp((pn.n_mat.fermi_level(T=T) - Si.Eg) / (k * T)))\n",
    "n_p = ni2 / (Si.Nv(T=T) * exp(-pn.p_mat.fermi_level(T=T) / (k * T)))\n",
    "print(p_n, n_p)\n",
    "print(e * Dp / Lp * p_n * from_unit(1, 'mm2') / unit('A'), e * Dn / Ln * n_p * from_unit(1, 'mm2') / unit('A'))\n",
    "\n",
    "\n",
    "# ток\n",
    "def cur(V):\n",
    "    return e * Dp / Lp * p_n * from_unit(1, 'mm2') * (exp(e * V / k / T) - 1)\n",
    "\n",
    "\n",
    "# мощность\n",
    "def pwr(V):\n",
    "    return V * cur(V)\n",
    "\n",
    "\n",
    "v_max = bisect(lambda x: pwr(x) - from_unit(50, 'W'), 0.01 * volt, 2 * volt, xtol=1e-15 * volt)\n",
    "i_max = cur(v_max)\n",
    "print(v_max / volt)\n",
    "print(f\"Max I {i_max / unit('A')} A\")\n"
   ]
  },
  {
   "cell_type": "markdown",
   "source": [
    "## Задание 3\n",
    "КДБ-5. Ищем ширину ОПЗ высоту барьера Шоттки"
   ],
   "metadata": {
    "collapsed": false
   }
  },
  {
   "cell_type": "code",
   "execution_count": 86,
   "outputs": [
    {
     "name": "stdout",
     "output_type": "stream",
     "text": [
      "Na: 0.000000e+00, Es: 0.0, Ef: 0.90649471282959\n",
      "0.8364947128295898\n",
      "1246568231481788.8\n",
      "ContactType.INVERSION\n",
      "Depletion zone width = 0.00009315 cm\n",
      "4.2635052871704096\n",
      "Schottky barrier = 0.84 eV\n"
     ]
    }
   ],
   "source": [
    "# КДБ-5\n",
    "sem = DopedSemiconductor.from_materials(Si, from_unit(500, 'cm / V s'), 'P', from_unit(10, 'Ohm cm'))\n",
    "print(f'Na: {sem.Na:e}, Es: {sem.Ea / eV}, Ef: {sem.fermi_level() / eV}')\n",
    "\n",
    "ms = MSJunction(Metal(5.1 * eV), sem)\n",
    "dphi = ms.delta_phi()\n",
    "df = fompy.units.to_unit(dphi*e, 'eV')\n",
    "print(df)\n",
    "n = sem.n_concentration()\n",
    "print(sem.n_concentration())\n",
    "print(ms.contact_type())\n",
    "print(f'Depletion zone width = %.8f cm' % (depletion_width(Si.eps, n, ms.delta_phi())))\n",
    "electron_affinity = 4.05 * eV\n",
    "Asi = 1.12*eV + electron_affinity - sem.fermi_level()\n",
    "print(Asi/eV)\n",
    "print(f'Schottky barrier = %1.2f eV' % (5.1 - Asi / eV))"
   ],
   "metadata": {
    "collapsed": false
   }
  },
  {
   "cell_type": "code",
   "execution_count": 86,
   "outputs": [],
   "source": [],
   "metadata": {
    "collapsed": false
   }
  }
 ],
 "metadata": {
  "kernelspec": {
   "display_name": "Python 3 (ipykernel)",
   "language": "python",
   "name": "python3"
  },
  "language_info": {
   "codemirror_mode": {
    "name": "ipython",
    "version": 3
   },
   "file_extension": ".py",
   "mimetype": "text/x-python",
   "name": "python",
   "nbconvert_exporter": "python",
   "pygments_lexer": "ipython3",
   "version": "3.10.8"
  }
 },
 "nbformat": 4,
 "nbformat_minor": 1
}
