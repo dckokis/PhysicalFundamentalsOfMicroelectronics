{
 "cells": [
  {
   "cell_type": "code",
   "execution_count": 16,
   "outputs": [],
   "source": [
    "from fompy.constants import *\n",
    "from fompy.materials import *\n",
    "from fompy.models import *\n",
    "from fompy.units import *"
   ],
   "metadata": {
    "collapsed": false
   }
  },
  {
   "cell_type": "code",
   "execution_count": 17,
   "outputs": [],
   "source": [
    "sem = DopedSemiconductor.from_materials(Si, from_unit(450, 'cm / V s'), 'B', from_unit(1, 'Ohm cm'))"
   ],
   "metadata": {
    "collapsed": false
   }
  },
  {
   "cell_type": "code",
   "execution_count": 18,
   "outputs": [
    {
     "name": "stdout",
     "output_type": "stream",
     "text": [
      "Na: 1.387096e+16, Es: 0.045, Ef: 0.18277240753173832\n"
     ]
    }
   ],
   "source": [
    "print(f'Na: {sem.Na:e}, Es: {sem.Ea/eV}, Ef: {sem.fermi_level()/eV}')"
   ],
   "metadata": {
    "collapsed": false
   }
  },
  {
   "cell_type": "code",
   "execution_count": 19,
   "outputs": [],
   "source": [
    "ms = MSJunction(Metal(4.6*eV), sem)"
   ],
   "metadata": {
    "collapsed": false
   }
  },
  {
   "cell_type": "code",
   "execution_count": 20,
   "outputs": [
    {
     "name": "stdout",
     "output_type": "stream",
     "text": [
      "ContactType.DEPLETION\n"
     ]
    }
   ],
   "source": [
    "T = 200\n",
    "\n",
    "print(ms.contact_type(T))"
   ],
   "metadata": {
    "collapsed": false
   }
  },
  {
   "cell_type": "code",
   "execution_count": 30,
   "outputs": [
    {
     "name": "stdout",
     "output_type": "stream",
     "text": [
      "1.2109225113989951e+42\n",
      "-0.001528845240100336\n",
      "11.7\n"
     ]
    }
   ],
   "source": [
    "# print('Width of depletion zone ' + str(sqrt(ms.sc.eps * np.abs(ms.delta_phi(T)) / (2 * pi * e * ms.sc.n_concentration(T))) * 1e-2 * 1e9) + ' nm')\n",
    "print(ms.sc.n_concentration(T))\n",
    "print(ms.delta_phi(T))\n",
    "print(ms.sc.eps)\n"
   ],
   "metadata": {
    "collapsed": false
   }
  }
 ],
 "metadata": {
  "kernelspec": {
   "display_name": "Python 3",
   "language": "python",
   "name": "python3"
  },
  "language_info": {
   "codemirror_mode": {
    "name": "ipython",
    "version": 2
   },
   "file_extension": ".py",
   "mimetype": "text/x-python",
   "name": "python",
   "nbconvert_exporter": "python",
   "pygments_lexer": "ipython2",
   "version": "2.7.6"
  }
 },
 "nbformat": 4,
 "nbformat_minor": 0
}
